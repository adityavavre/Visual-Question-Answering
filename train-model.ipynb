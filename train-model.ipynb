{
 "cells": [
  {
   "cell_type": "markdown",
   "metadata": {
    "colab_type": "text",
    "id": "uj2GyWELpwCI"
   },
   "source": [
    "This notebook shows how to train a Transparency by Design network (TbD-net) on the CLEVR dataset. Training for CoGenT can be done in much the same manner, simply changing the training and validation loaders and updating the evaluation code to evaluate over Condition A and Condition B."
   ]
  },
  {
   "cell_type": "code",
   "execution_count": 1,
   "metadata": {
    "colab": {},
    "colab_type": "code",
    "id": "_l_Zc73YpwCL",
    "pycharm": {
     "is_executing": false
    }
   },
   "outputs": [],
   "source": [
    "from pathlib import Path\n",
    "\n",
    "import torch\n",
    "import torch.optim as optim\n",
    "import numpy as np\n",
    "np.random.seed(0)\n",
    "from utils.clevr import load_vocab, ClevrDataLoaderNumpy, ClevrDataLoaderH5\n",
    "from tbd.module_net import TbDNet"
   ]
  },
  {
   "cell_type": "markdown",
   "metadata": {
    "colab_type": "text",
    "id": "LXep6EU-pwCO"
   },
   "source": [
    "We want to run on CUDA if we have CUDA support so that we can train our model in a reasonable amount of time. We'll define the device accordingly."
   ]
  },
  {
   "cell_type": "code",
   "execution_count": 2,
   "metadata": {
    "colab": {
     "base_uri": "https://localhost:8080/",
     "height": 34
    },
    "colab_type": "code",
    "executionInfo": {
     "elapsed": 1720,
     "status": "ok",
     "timestamp": 1574016813065,
     "user": {
      "displayName": "Yash Sharma",
      "photoUrl": "https://lh3.googleusercontent.com/a-/AAuE7mDBwQl0ulGaqFE3FiDtpBbb64plALfXXlpV4YhWPd0=s64",
      "userId": "13002124199478971017"
     },
     "user_tz": -330
    },
    "id": "JjrBLf8vpwCO",
    "outputId": "273296b9-c590-44c6-d885-2cd27aca27ee",
    "pycharm": {
     "is_executing": true
    }
   },
   "outputs": [
    {
     "name": "stdout",
     "output_type": "stream",
     "text": [
      "cpu\n"
     ]
    }
   ],
   "source": [
    "device = 'cuda' if torch.cuda.is_available() else 'cpu'\n",
    "print(device)"
   ]
  },
  {
   "cell_type": "markdown",
   "metadata": {
    "colab_type": "text",
    "id": "qs_ydiikpwCQ"
   },
   "source": [
    "The first step is to create our model.\n",
    "\n",
    "We first load the `vocab` file, which holds a list of all the modules we're going to need. We then pass the vocab into our `TbDNet`, which creates an appropriate neural module for each operation in the vocab."
   ]
  },
  {
   "cell_type": "code",
   "execution_count": 3,
   "metadata": {
    "colab": {},
    "colab_type": "code",
    "id": "KiEduXD3pwCR",
    "pycharm": {
     "is_executing": true
    }
   },
   "outputs": [],
   "source": [
    "vocab = load_vocab(Path('data/vocab.json'))\n",
    "\n",
    "# to train on 14x14 feature maps, pass feature_dim=(1024, 14, 14) to TbDNet\n",
    "tbd_net = TbDNet(vocab, feature_dim=(1024, 14, 14)).to(device)"
   ]
  },
  {
   "cell_type": "code",
   "execution_count": 4,
   "metadata": {
    "colab": {},
    "colab_type": "code",
    "id": "n5fdArWvWQLr",
    "pycharm": {
     "is_executing": true
    }
   },
   "outputs": [],
   "source": [
    "import os"
   ]
  },
  {
   "cell_type": "markdown",
   "metadata": {
    "colab_type": "text",
    "id": "3y1vThdwpwCT"
   },
   "source": [
    "Next up, we need to load our data.\n",
    "\n",
    "The `use_numpy_format` flag indicates whether we're loading data using npy files or HDF5 files.\n",
    "\n",
    "We create the appropriate `DataLoader` objects depending on the choice."
   ]
  },
  {
   "cell_type": "code",
   "execution_count": 5,
   "metadata": {
    "colab": {
     "base_uri": "https://localhost:8080/",
     "height": 122
    },
    "colab_type": "code",
    "executionInfo": {
     "elapsed": 3372,
     "status": "ok",
     "timestamp": 1574016818761,
     "user": {
      "displayName": "Yash Sharma",
      "photoUrl": "https://lh3.googleusercontent.com/a-/AAuE7mDBwQl0ulGaqFE3FiDtpBbb64plALfXXlpV4YhWPd0=s64",
      "userId": "13002124199478971017"
     },
     "user_tz": -330
    },
    "id": "-i033ah4pwCU",
    "outputId": "6a9d9193-ef79-4bc9-b9ad-de32dca0eefb",
    "pycharm": {
     "is_executing": true
    }
   },
   "outputs": [
    {
     "name": "stdout",
     "output_type": "stream",
     "text": [
      "True\n",
      "Reading features from  data/training/train_features.h5\n",
      "Reading features from  data/validation/val_features.h5\n"
     ]
    },
    {
     "name": "stderr",
     "output_type": "stream",
     "text": [
      "/Users/yashs20/OneDrive - iitb.ac.in/Documents/SEM5/AIML-CS337/tbd-nets/utils/clevr.py:356: H5pyDeprecationWarning: The default file mode will change to 'r' (read-only) in h5py 3.0. To suppress this warning, pass the mode you need to h5py.File(), or set the global default h5.get_config().default_file_mode, or set the environment variable H5PY_DEFAULT_READONLY=1. Available modes are: 'r', 'r+', 'w', 'w-'/'x', 'a'. See the docs for details.\n",
      "  with h5py.File(question_h5_path) as question_h5:\n"
     ]
    }
   ],
   "source": [
    "use_numpy_format = False\n",
    "\n",
    "if use_numpy_format:\n",
    "    train_loader_kwargs = {\n",
    "        'question_np': Path('data/training/train_questions.npy'),\n",
    "        'image_idx_np': Path('data/training/train_image_idxs.npy'),\n",
    "        'program_np': Path('data/training/train_programs.npy'),\n",
    "        'feature_np': Path('data/train_features_hres.npy'),\n",
    "        'answer_np': Path('data/training/train_answers.npy'),\n",
    "        'batch_size': 128,\n",
    "        'num_workers': 2,\n",
    "        'shuffle': True\n",
    "    }\n",
    "\n",
    "    val_loader_kwargs = {\n",
    "        'question_np': Path('data/validation/val_questions.npy'),\n",
    "        'image_idx_np': Path('data/validation/val_image_idxs.npy'),\n",
    "        'program_np': Path('data/validation/val_programs.npy'),\n",
    "        'feature_np': Path('clevr-iep/data/val_features_hres.npy'),\n",
    "        'answer_np': Path('data/validation/val_answers.npy'),\n",
    "        'batch_size': 128,\n",
    "        'num_workers': 2,\n",
    "        'shuffle': False\n",
    "    }\n",
    "    \n",
    "    train_loader = ClevrDataLoaderNumpy(**train_loader_kwargs)\n",
    "    val_loader = ClevrDataLoaderNumpy(**val_loader_kwargs)\n",
    "else:\n",
    "    MAX_DATA_LEN = 1024\n",
    "    DATA_SIZE = 10000 #CloseNuff\n",
    "    train_indices = np.random.choice(np.arange(DATA_SIZE), size=MAX_DATA_LEN, replace=False).tolist()\n",
    "    train_loader_kwargs = {\n",
    "        'question_h5': Path('data/training/train_questions.h5'),\n",
    "        'feature_h5': Path('data/training/train_features.h5'),\n",
    "        'batch_size': 128,\n",
    "        'num_workers': 2,\n",
    "        'shuffle': True,\n",
    "        'indices':train_indices\n",
    "    }\n",
    "    VAL_DATA_LEN = 512\n",
    "    VAL_DATA_SIZE = 5000\n",
    "    val_indices = np.random.choice(np.arange(VAL_DATA_SIZE), size=VAL_DATA_LEN, replace=False).tolist()\n",
    "    val_loader_kwargs = {\n",
    "        'question_h5': Path('data/validation/val_questions.h5'),\n",
    "        'feature_h5': Path('data/validation/val_features.h5'),\n",
    "        'batch_size': 128,\n",
    "        'num_workers': 2,\n",
    "        'shuffle': False,\n",
    "        'indices': val_indices\n",
    "    }\n",
    "    print(os.path.isfile(train_loader_kwargs['feature_h5']))\n",
    "\n",
    "    train_loader = ClevrDataLoaderH5(**train_loader_kwargs)\n",
    "    val_loader = ClevrDataLoaderH5(**val_loader_kwargs)"
   ]
  },
  {
   "cell_type": "markdown",
   "metadata": {
    "colab_type": "text",
    "id": "CmHOLkEupwCW"
   },
   "source": [
    "The answer format we prefer is different from that of Justin Johson *et al.*\n",
    "\n",
    "Their answers are sorted according to ASCII value, while we group by answer type and sort these alphabetically. Note that we have fewer answers than them, because we do not list the special tokens `<NULL>`, `<START>`, `<END>`, and `<UNK>` as answers."
   ]
  },
  {
   "cell_type": "code",
   "execution_count": 6,
   "metadata": {
    "colab": {},
    "colab_type": "code",
    "id": "gA1sjMES33bl",
    "pycharm": {
     "is_executing": true
    }
   },
   "outputs": [],
   "source": [
    "# train_loader.dataset"
   ]
  },
  {
   "cell_type": "code",
   "execution_count": 7,
   "metadata": {
    "colab": {},
    "colab_type": "code",
    "id": "vfaRSkQIpwCX",
    "pycharm": {
     "is_executing": true
    }
   },
   "outputs": [],
   "source": [
    "def map_ans(answers):\n",
    "    ''' Map the answers from the format Justin Johnson et al. use to our own format. '''\n",
    "    ans_tensor = torch.LongTensor(answers.size())\n",
    "    ans_tensor[answers == 15] = 0  # blue\n",
    "    ans_tensor[answers == 16] = 1  # brown\n",
    "    ans_tensor[answers == 18] = 2  # cyan\n",
    "    ans_tensor[answers == 20] = 3  # gray\n",
    "    ans_tensor[answers == 21] = 4  # green\n",
    "    ans_tensor[answers == 25] = 5  # purple\n",
    "    ans_tensor[answers == 26] = 6  # red\n",
    "    ans_tensor[answers == 30] = 7  # yellow\n",
    "    ans_tensor[answers == 17] = 8  # cube\n",
    "    ans_tensor[answers == 19] = 9  # cylinder\n",
    "    ans_tensor[answers == 29] = 10 # sphere\n",
    "    ans_tensor[answers == 22] = 11 # large\n",
    "    ans_tensor[answers == 28] = 12 # small\n",
    "    ans_tensor[answers == 23] = 13 # metal\n",
    "    ans_tensor[answers == 27] = 14 # rubber\n",
    "    ans_tensor[answers == 24] = 15 # no\n",
    "    ans_tensor[answers == 31] = 16 # yes\n",
    "    ans_tensor[answers == 4] = 17  # 0\n",
    "    ans_tensor[answers == 5] = 18  # 1\n",
    "    ans_tensor[answers == 6] = 19  # 10 <- originally sorted by ASCII value, not numerical\n",
    "    ans_tensor[answers == 7] = 20  # 2\n",
    "    ans_tensor[answers == 8] = 21  # 3\n",
    "    ans_tensor[answers == 9] = 22  # 4\n",
    "    ans_tensor[answers == 10] = 23 # 5\n",
    "    ans_tensor[answers == 11] = 24 # 6\n",
    "    ans_tensor[answers == 12] = 25 # 7\n",
    "    ans_tensor[answers == 13] = 26 # 8\n",
    "    ans_tensor[answers == 14] = 27 # 9\n",
    "    return ans_tensor"
   ]
  },
  {
   "cell_type": "markdown",
   "metadata": {
    "colab_type": "text",
    "id": "3Aobxs9PpwCZ"
   },
   "source": [
    "At each epoch, we'll save our model's state, the epoch, and the training state."
   ]
  },
  {
   "cell_type": "code",
   "execution_count": 8,
   "metadata": {
    "colab": {},
    "colab_type": "code",
    "id": "uYxFuniypwCZ",
    "pycharm": {
     "is_executing": true
    }
   },
   "outputs": [],
   "source": [
    "def save_checkpoint(epoch, filename):\n",
    "    ''' Save the training state. '''\n",
    "    state = {\n",
    "        'epoch': epoch,\n",
    "        'state_dict': tbd_net.state_dict(),\n",
    "        'optimizer': optimizer.state_dict()\n",
    "        }\n",
    "    torch.save(state, filename)"
   ]
  },
  {
   "cell_type": "code",
   "execution_count": 9,
   "metadata": {
    "colab": {},
    "colab_type": "code",
    "id": "phpHRbRGpwCb",
    "pycharm": {
     "is_executing": true
    }
   },
   "outputs": [],
   "source": [
    "def check_accuracy(loader):\n",
    "    '''\n",
    "    Convenience function for checking the accuracy of the model \n",
    "    over all the data in a given `DataLoader`\n",
    "    '''\n",
    "    torch.set_grad_enabled(False)\n",
    "    num_correct, num_samples = 0, 0\n",
    "    for batch in loader:\n",
    "        _, _, feats, answers, programs = batch\n",
    "        feats = feats.to(device)\n",
    "        programs = programs.to(device)\n",
    "\n",
    "        outs = tbd_net(feats, programs)\n",
    "        _, preds = outs.max(1)\n",
    "        mapped_ans = map_ans(answers)\n",
    "        num_correct += (preds.to('cpu') == mapped_ans).sum()\n",
    "        num_samples += preds.size(0)\n",
    "\n",
    "    return (num_correct, num_samples)"
   ]
  },
  {
   "cell_type": "code",
   "execution_count": 10,
   "metadata": {
    "colab": {},
    "colab_type": "code",
    "id": "b3pOUxpBpwCd",
    "pycharm": {
     "is_executing": true
    }
   },
   "outputs": [],
   "source": [
    "def write_acc(f, string, correct, total):\n",
    "    ''' Convenience function to write the accuracy to a file '''\n",
    "    percent = correct / total * 100.0 if total != 0 else 100\n",
    "    print(percent)\n",
    "    f.write(string.format(correct, total, percent))"
   ]
  },
  {
   "cell_type": "markdown",
   "metadata": {
    "colab_type": "text",
    "id": "QpIDLXCipwCf"
   },
   "source": [
    "Create the optimizer and loss function we will use to train our model"
   ]
  },
  {
   "cell_type": "code",
   "execution_count": 11,
   "metadata": {
    "colab": {},
    "colab_type": "code",
    "id": "F9o2VZokpwCf",
    "pycharm": {
     "is_executing": true
    }
   },
   "outputs": [],
   "source": [
    "optimizer = torch.optim.Adam(tbd_net.parameters(), 1e-04)\n",
    "xent_loss = torch.nn.CrossEntropyLoss().to(device)"
   ]
  },
  {
   "cell_type": "code",
   "execution_count": 12,
   "metadata": {
    "colab": {},
    "colab_type": "code",
    "id": "6qbYgk2_pwCh",
    "pycharm": {
     "is_executing": true
    }
   },
   "outputs": [],
   "source": [
    "def train_epoch():\n",
    "    ''' Convenience function to train the model for one epoch.\n",
    "    Note that the reported training accuracy is not a true measure of accuracy after\n",
    "    training for a full epoch, as it is computed during training. However, it does give a\n",
    "    decent measure of progress.\n",
    "    '''\n",
    "    torch.set_grad_enabled(True)\n",
    "    num_correct, num_samples = 0, 0\n",
    "    i = 0\n",
    "    for batch in train_loader:\n",
    "        i += 1\n",
    "        print(\"batch {}\".format(str(i)))\n",
    "        _, _, feats, answers, programs = batch\n",
    "        feats = feats.to(device)\n",
    "        programs = programs.to(device)\n",
    "#         print(feats.shape)\n",
    "\n",
    "        optimizer.zero_grad()\n",
    "        outs = tbd_net(feats, programs)\n",
    "        _, preds = outs.max(1)\n",
    "        mapped_ans = map_ans(answers)\n",
    "        num_correct += (preds.to('cpu') == mapped_ans).sum()\n",
    "        num_samples += preds.size(0)\n",
    "        loss = xent_loss(outs, mapped_ans.to(device))\n",
    "    \n",
    "        # The following line applies an L1 penalty to the intermediate attention masks.\n",
    "        # This gives a signal to the model to minimize its attention outputs, which we \n",
    "        # find (nearly) removes spurious activations in background regions. Our thought\n",
    "        # process is that background regions normally get no signal to push them to zero\n",
    "        # because the model is able to effectively ignore them, so a somewhat noisy\n",
    "        # attention output is adequate. By applying this penalty, we incentivize minimizing\n",
    "        # the spurious activations, leading to better-looking outputs. For a comparison, see\n",
    "        # the visualize-outputs.ipynb notebook. If you wish to replicate the *original*\n",
    "        # results, comment the following line or change the multiplier to zero. In all \n",
    "        # other cases, we recommend keeping this factor and tuning it to your use-case if\n",
    "        # this default is not adequate.\n",
    "        loss += tbd_net.attention_sum * 2.5e-07\n",
    "        \n",
    "        loss_file.write('Loss: {}\\n'.format(loss.item()))\n",
    "        loss.backward()\n",
    "        optimizer.step()\n",
    "\n",
    "    val_correct, val_samples = check_accuracy(val_loader)\n",
    "    \n",
    "    write_acc(acc_file, 'Train Accuracy: {} / {} ({:.2f}%)\\n', float(num_correct), float(num_samples))\n",
    "    write_acc(acc_file, 'Val Accuracy: {} / {} ({:.2f}%)\\n', float(val_correct), float(val_samples))\n",
    "    acc_file.flush()\n",
    "    loss_file.flush()"
   ]
  },
  {
   "cell_type": "markdown",
   "metadata": {
    "colab_type": "text",
    "id": "T38PdArMpwCj"
   },
   "source": [
    "Open a loss log and an accuracy log for writing, then train for 30 epochs, saving our model after each epoch."
   ]
  },
  {
   "cell_type": "code",
   "execution_count": 13,
   "metadata": {
    "colab": {
     "base_uri": "https://localhost:8080/",
     "height": 867
    },
    "colab_type": "code",
    "executionInfo": {
     "elapsed": 1224661,
     "status": "error",
     "timestamp": 1574018092003,
     "user": {
      "displayName": "Yash Sharma",
      "photoUrl": "https://lh3.googleusercontent.com/a-/AAuE7mDBwQl0ulGaqFE3FiDtpBbb64plALfXXlpV4YhWPd0=s64",
      "userId": "13002124199478971017"
     },
     "user_tz": -330
    },
    "id": "eSUzjGMzpwCj",
    "outputId": "7b1978b3-63b4-4ccd-e0d9-da196c313158",
    "pycharm": {
     "is_executing": false
    },
    "scrolled": false
   },
   "outputs": [
    {
     "name": "stdout",
     "output_type": "stream",
     "text": [
      "starting epoch 1\n",
      "batch 1\n",
      "batch 2\n",
      "batch 3\n",
      "batch 4\n",
      "batch 5\n",
      "batch 6\n",
      "batch 7\n",
      "batch 8\n",
      "18.26171875\n",
      "18.359375\n",
      "Time taken: 25.123230934143066\n",
      "starting epoch 2\n",
      "batch 1\n",
      "batch 2\n",
      "batch 3\n",
      "batch 4\n",
      "batch 5\n",
      "batch 6\n",
      "batch 7\n",
      "batch 8\n",
      "19.7265625\n",
      "18.359375\n",
      "Time taken: 28.414628267288208\n",
      "starting epoch 3\n",
      "batch 1\n",
      "batch 2\n",
      "batch 3\n",
      "batch 4\n",
      "batch 5\n",
      "batch 6\n",
      "batch 7\n",
      "batch 8\n",
      "21.19140625\n",
      "18.359375\n",
      "Time taken: 28.651705741882324\n",
      "starting epoch 4\n",
      "batch 1\n",
      "batch 2\n",
      "batch 3\n",
      "batch 4\n",
      "batch 5\n",
      "batch 6\n",
      "batch 7\n",
      "batch 8\n",
      "21.19140625\n",
      "18.359375\n",
      "Time taken: 31.716424226760864\n",
      "starting epoch 5\n",
      "batch 1\n",
      "batch 2\n",
      "batch 3\n",
      "batch 4\n",
      "batch 5\n",
      "batch 6\n",
      "batch 7\n",
      "batch 8\n",
      "19.921875\n",
      "24.21875\n",
      "Time taken: 25.542845964431763\n",
      "starting epoch 6\n",
      "batch 1\n",
      "batch 2\n",
      "batch 3\n",
      "batch 4\n",
      "batch 5\n",
      "batch 6\n",
      "batch 7\n",
      "batch 8\n",
      "21.875\n",
      "18.359375\n",
      "Time taken: 34.110907793045044\n",
      "starting epoch 7\n",
      "batch 1\n",
      "batch 2\n",
      "batch 3\n",
      "batch 4\n",
      "batch 5\n",
      "batch 6\n",
      "batch 7\n",
      "batch 8\n",
      "21.2890625\n",
      "24.609375\n",
      "Time taken: 26.44538402557373\n",
      "starting epoch 8\n",
      "batch 1\n",
      "batch 2\n",
      "batch 3\n",
      "batch 4\n",
      "batch 5\n",
      "batch 6\n",
      "batch 7\n",
      "batch 8\n",
      "21.875\n",
      "18.9453125\n",
      "Time taken: 31.393861770629883\n",
      "starting epoch 9\n",
      "batch 1\n",
      "batch 2\n",
      "batch 3\n",
      "batch 4\n",
      "batch 5\n",
      "batch 6\n",
      "batch 7\n",
      "batch 8\n",
      "23.4375\n",
      "19.53125\n",
      "Time taken: 28.0016827583313\n",
      "starting epoch 10\n",
      "batch 1\n",
      "batch 2\n",
      "batch 3\n",
      "batch 4\n",
      "batch 5\n",
      "batch 6\n",
      "batch 7\n",
      "batch 8\n",
      "20.99609375\n",
      "20.3125\n",
      "Time taken: 27.92598581314087\n"
     ]
    }
   ],
   "source": [
    "import time\n",
    "loss_file = open(Path('results/run2-baseline-loss.txt'), 'a')\n",
    "acc_file = open(Path('results/run2-baseline-acc.txt'), 'a')\n",
    "epoch = 0\n",
    "while epoch < 10:\n",
    "    save_checkpoint(epoch, 'example-{:02d}.pt'.format(epoch))\n",
    "    epoch += 1\n",
    "    print('starting epoch', epoch)\n",
    "    t = time.time()\n",
    "    train_epoch()\n",
    "    print(\"Time taken:\", time.time() - t)\n",
    "\n",
    "save_checkpoint(epoch, 'example-{:02d}.pt'.format(epoch))"
   ]
  },
  {
   "cell_type": "markdown",
   "metadata": {
    "colab_type": "text",
    "collapsed": true,
    "id": "yz1K7O8SpwCl"
   },
   "source": [
    "Now let's see how our model did!\n",
    "\n",
    "You can certainly use the following in a separate notebook to monitor progress during training, as well."
   ]
  },
  {
   "cell_type": "code",
   "execution_count": null,
   "metadata": {
    "colab": {},
    "colab_type": "code",
    "id": "YyJK9cC7pwCm",
    "pycharm": {
     "is_executing": true
    }
   },
   "outputs": [],
   "source": [
    "import matplotlib.pyplot as plt\n",
    "%matplotlib notebook"
   ]
  },
  {
   "cell_type": "code",
   "execution_count": null,
   "metadata": {
    "colab": {},
    "colab_type": "code",
    "id": "gicRAvmfpwCo",
    "pycharm": {
     "is_executing": true
    }
   },
   "outputs": [],
   "source": [
    "def plot(data, title):\n",
    "    ''' Scatterplot with a smoothed average line '''\n",
    "    fig, ax = plt.subplots()\n",
    "    x = range(len(data))\n",
    "    ax.scatter(x, data, s=5)\n",
    "    c = np.cumsum(np.insert(data, 0, 0))\n",
    "    smoothed = (c[50:] - c[:-50]) / 50\n",
    "    ax.plot(smoothed, color='r')\n",
    "    ax.set_title(title)"
   ]
  },
  {
   "cell_type": "markdown",
   "metadata": {
    "colab_type": "text",
    "id": "Oi2TJcYWpwCp"
   },
   "source": [
    "Read in our batch losses and plot them"
   ]
  },
  {
   "cell_type": "code",
   "execution_count": null,
   "metadata": {
    "colab": {
     "base_uri": "https://localhost:8080/",
     "height": 17
    },
    "colab_type": "code",
    "executionInfo": {
     "elapsed": 1205,
     "status": "ok",
     "timestamp": 1573930332198,
     "user": {
      "displayName": "Arjit Jain",
      "photoUrl": "https://lh4.googleusercontent.com/-6zbTxwr4chY/AAAAAAAAAAI/AAAAAAAAIvI/FySdHO1Qxns/s64/photo.jpg",
      "userId": "03583088838778806640"
     },
     "user_tz": -330
    },
    "id": "1larnGSNpwCq",
    "outputId": "56030c45-2849-42ed-cfbc-480cb016cb26",
    "pycharm": {
     "is_executing": true
    }
   },
   "outputs": [],
   "source": [
    "loss = []\n",
    "with open(Path('results/run2-baseline-loss.txt')) as f:\n",
    "    for line in f:\n",
    "        loss.append(float(line[6:]))\n",
    "loss = np.array(loss)\n",
    "\n",
    "plot(loss, 'Loss')"
   ]
  },
  {
   "cell_type": "markdown",
   "metadata": {
    "colab_type": "text",
    "id": "JqTgZhaqpwCs"
   },
   "source": [
    "The above loss curve looks pretty typical for our model.\n",
    "\n",
    "We get a very quick drop in the loss as our model learns some answers are ridiculous. For example, the `query_color` module should never output an answer that isn't a color and `count` should never output an answer that's not a number.\n",
    "\n",
    "We then begin learning useful attentions, which lead to a rapid decrease in the loss, following which we see a smooth decrease toward zero."
   ]
  },
  {
   "cell_type": "markdown",
   "metadata": {
    "colab_type": "text",
    "id": "ImKbyWy7pwCs"
   },
   "source": [
    "Let's read in our accuracy next"
   ]
  },
  {
   "cell_type": "code",
   "execution_count": null,
   "metadata": {
    "colab": {},
    "colab_type": "code",
    "id": "vs-G4fUxpwCt",
    "pycharm": {
     "is_executing": true
    }
   },
   "outputs": [],
   "source": [
    "train_acc = []\n",
    "val_acc = []\n",
    "with open(Path('results/example-acc.txt')) as f:\n",
    "    for line in f:\n",
    "        train_acc.append(float(line[-8:-3]))\n",
    "        val_acc.append(float(f.readline()[-8:-3]))\n",
    "    \n",
    "train_acc = np.array(train_acc)\n",
    "val_acc = np.array(val_acc)\n",
    "\n",
    "x = range(len(train_acc))\n",
    "fig, ax = plt.subplots()\n",
    "ax.plot(x, train_acc, label='Train', c='g')\n",
    "ax.plot(x, val_acc, label='Val', c='g', ls=':')\n",
    "ax.legend()\n",
    "\n",
    "print(train_acc)\n",
    "print(val_acc)\n",
    "print('Highest validation accuracy: {}'.format(val_acc.max()))"
   ]
  },
  {
   "cell_type": "markdown",
   "metadata": {
    "colab_type": "text",
    "id": "E42xCE1RpwCv"
   },
   "source": [
    "We see our model learns remarkably quickly. After the first couple epochs, the model is refining attentions, having learned generally what they should be doing. Again, note that the training accuracy is not quite a correct measure of training performance since it is computed during training. This is why training accuracy is slightly below validation accuracy for a while."
   ]
  }
 ],
 "metadata": {
  "accelerator": "GPU",
  "colab": {
   "collapsed_sections": [],
   "name": "train-model.ipynb",
   "provenance": []
  },
  "kernelspec": {
   "display_name": "Python 3",
   "language": "python",
   "name": "python3"
  },
  "language_info": {
   "codemirror_mode": {
    "name": "ipython",
    "version": 3
   },
   "file_extension": ".py",
   "mimetype": "text/x-python",
   "name": "python",
   "nbconvert_exporter": "python",
   "pygments_lexer": "ipython3",
   "version": "3.7.5"
  },
  "pycharm": {
   "stem_cell": {
    "cell_type": "raw",
    "metadata": {
     "collapsed": false
    },
    "source": []
   }
  }
 },
 "nbformat": 4,
 "nbformat_minor": 1
}
